{
 "cells": [
  {
   "cell_type": "code",
   "execution_count": 1,
   "id": "692584c8",
   "metadata": {},
   "outputs": [],
   "source": [
    "import requests\n",
    "from PIL import Image\n",
    "from io import BytesIO\n",
    "import os\n",
    "import pandas as pd\n",
    "from concurrent.futures import ThreadPoolExecutor "
   ]
  },
  {
   "cell_type": "code",
   "execution_count": 2,
   "id": "7e7156ee",
   "metadata": {},
   "outputs": [],
   "source": [
    "from concurrent.futures import as_completed\n",
    "from tqdm import tqdm"
   ]
  },
  {
   "cell_type": "code",
   "execution_count": 6,
   "id": "0877e3fe",
   "metadata": {},
   "outputs": [
    {
     "name": "stderr",
     "output_type": "stream",
     "text": [
      "Downloading images: 100%|████████████████████████████████████████████████████████████████████████████████████████████████| 638/638 [05:17<00:00,  2.01it/s]"
     ]
    },
    {
     "name": "stdout",
     "output_type": "stream",
     "text": [
      "Done! Downloaded images saved in 'downloaded_images/'\n",
      "Metadata saved to 'download_metadata.csv'\n"
     ]
    },
    {
     "name": "stderr",
     "output_type": "stream",
     "text": [
      "\n"
     ]
    }
   ],
   "source": [
    "INPUT_FILES = [\"image_urls1.txt\", \"image_urls2.txt\", \"image_urls3.txt\",\"dataset4.txt\",\"dataset5.txt\",\"dataset6.txt\"] \n",
    "OUTPUT_DIR = \"downloaded_images\" \n",
    "IMAGE_FORMAT = \"JPEG\"          \n",
    "QUALITY = 90                   \n",
    "THREADS = 8                  \n",
    "\n",
    "os.makedirs(OUTPUT_DIR, exist_ok=True)\n",
    "\n",
    "def process_image(url, idx):\n",
    "    try:\n",
    "        response = requests.get(url, timeout=10)\n",
    "        response.raise_for_status()  \n",
    "        \n",
    "        img = Image.open(BytesIO(response.content))\n",
    "        \n",
    "        file_ext = url.split('.')[-1].lower()\n",
    "        if file_ext not in ['jpg', 'jpeg', 'png', 'gif', 'webp']:\n",
    "            file_ext = IMAGE_FORMAT.lower()\n",
    "        \n",
    "        img_name = f\"image_{idx:04d}.{file_ext}\"  \n",
    "        img_path = os.path.join(OUTPUT_DIR, img_name)\n",
    "        \n",
    "        img.save(img_path, quality=QUALITY)\n",
    "        \n",
    "        return {\"url\": url, \"path\": img_path, \"status\": \"success\"}\n",
    "    except Exception as e:\n",
    "        return {\"url\": url, \"path\": None, \"status\": f\"failed: {e}\"}\n",
    "\n",
    "if __name__ == \"__main__\":\n",
    "    urls = []\n",
    "    for input_file in INPUT_FILES:\n",
    "        with open(input_file, \"r\") as f:\n",
    "            urls.extend([line.strip() for line in f if line.strip()])\n",
    "    \n",
    "    metadata = []\n",
    "    with ThreadPoolExecutor(max_workers=THREADS) as executor:\n",
    "        \n",
    "        futures = []\n",
    "        for idx, url in enumerate(urls):\n",
    "            futures.append(executor.submit(process_image, url, idx))\n",
    "        \n",
    "        \n",
    "        for future in tqdm(as_completed(futures), total=len(futures), desc=\"Downloading images\"):\n",
    "            metadata.append(future.result())\n",
    "    \n",
    "    pd.DataFrame(metadata).to_csv(\"download_metadata.csv\", index=False)\n",
    "    print(f\"Done! Downloaded images saved in '{OUTPUT_DIR}/'\")\n",
    "    print(f\"Metadata saved to 'download_metadata.csv'\")"
   ]
  },
  {
   "cell_type": "code",
   "execution_count": null,
   "id": "9aeb8580",
   "metadata": {},
   "outputs": [],
   "source": []
  },
  {
   "cell_type": "code",
   "execution_count": null,
   "id": "cae09b52",
   "metadata": {},
   "outputs": [],
   "source": []
  },
  {
   "cell_type": "code",
   "execution_count": null,
   "id": "b4d1350a",
   "metadata": {},
   "outputs": [],
   "source": []
  }
 ],
 "metadata": {
  "kernelspec": {
   "display_name": "Python 3 (ipykernel)",
   "language": "python",
   "name": "python3"
  },
  "language_info": {
   "codemirror_mode": {
    "name": "ipython",
    "version": 3
   },
   "file_extension": ".py",
   "mimetype": "text/x-python",
   "name": "python",
   "nbconvert_exporter": "python",
   "pygments_lexer": "ipython3",
   "version": "3.11.5"
  }
 },
 "nbformat": 4,
 "nbformat_minor": 5
}
