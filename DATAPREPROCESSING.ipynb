{
 "cells": [
  {
   "cell_type": "code",
   "execution_count": 2,
   "id": "501d2227",
   "metadata": {},
   "outputs": [],
   "source": [
    "import os\n",
    "from PIL import Image\n",
    "import pandas as pd\n",
    "import shutil"
   ]
  },
  {
   "cell_type": "code",
   "execution_count": 3,
   "id": "9b86760c",
   "metadata": {},
   "outputs": [],
   "source": [
    "from tqdm import tqdm"
   ]
  },
  {
   "cell_type": "code",
   "execution_count": 4,
   "id": "ec7ea26f",
   "metadata": {},
   "outputs": [
    {
     "name": "stderr",
     "output_type": "stream",
     "text": [
      "Processing images:  41%|████████████████████████████▍                                        | 203/492 [00:09<00:11, 25.90image/s, Processed=203, Failed=1]"
     ]
    },
    {
     "name": "stdout",
     "output_type": "stream",
     "text": [
      "Failed to process downloaded_images\\image_0232.png: cannot write mode LA as JPEG\n"
     ]
    },
    {
     "name": "stderr",
     "output_type": "stream",
     "text": [
      "Processing images:  77%|█████████████████████████████████████████████████████                | 378/492 [00:18<00:07, 15.46image/s, Processed=378, Failed=1]C:\\Users\\91879\\anaconda3\\Lib\\site-packages\\PIL\\Image.py:996: UserWarning: Palette images with Transparency expressed in bytes should be converted to RGBA images\n",
      "  warnings.warn(\n",
      "Processing images: 100%|█████████████████████████████████████████████████████████████████████| 492/492 [00:24<00:00, 20.35image/s, Processed=491, Failed=1]"
     ]
    },
    {
     "name": "stdout",
     "output_type": "stream",
     "text": [
      "\n",
      "Done! Resized images saved in 'successful_images/'\n",
      "Total images: 492\n",
      "Successfully processed: 491\n",
      "Failed to process: 1\n"
     ]
    },
    {
     "name": "stderr",
     "output_type": "stream",
     "text": [
      "\n"
     ]
    }
   ],
   "source": [
    "METADATA_FILE = \"download_metadata.csv\"\n",
    "DOWNLOAD_DIR = \"downloaded_images\"\n",
    "NEW_OUTPUT_DIR = \"successful_images\"\n",
    "RESIZE_SIZE = (640, 640)\n",
    "IMAGE_FORMAT = \"JPEG\"\n",
    "QUALITY = 90\n",
    "\n",
    "os.makedirs(NEW_OUTPUT_DIR, exist_ok=True)\n",
    "\n",
    "df = pd.read_csv(METADATA_FILE)\n",
    "successful_images = df[df[\"status\"] == \"success\"]\n",
    "\n",
    "total_images = len(successful_images)\n",
    "processed_count = 0\n",
    "failed_count = 0\n",
    "\n",
    "with tqdm(total=total_images, desc=\"Processing images\", unit=\"image\") as pbar:\n",
    "    for _, row in successful_images.iterrows():\n",
    "        src_path = row[\"path\"]\n",
    "        if pd.notna(src_path) and os.path.exists(src_path):\n",
    "            try:\n",
    "                filename = os.path.basename(src_path)\n",
    "                base_name = os.path.splitext(filename)[0]\n",
    "                dest_path = os.path.join(NEW_OUTPUT_DIR, f\"{base_name}.{IMAGE_FORMAT.lower()}\")\n",
    "                \n",
    "                with Image.open(src_path) as img:\n",
    "                    \n",
    "                    img.thumbnail(RESIZE_SIZE, Image.Resampling.LANCZOS)\n",
    "                    \n",
    "                    if img.mode in (\"RGBA\", \"P\"):\n",
    "                        img = img.convert(\"RGB\")\n",
    "                    \n",
    "                    img.save(dest_path, IMAGE_FORMAT, quality=QUALITY)\n",
    "                    \n",
    "                processed_count += 1\n",
    "                pbar.set_postfix({\"Processed\": processed_count, \"Failed\": failed_count})\n",
    "                \n",
    "            except Exception as e:\n",
    "                failed_count += 1\n",
    "                pbar.set_postfix({\"Processed\": processed_count, \"Failed\": failed_count})\n",
    "                pbar.write(f\"Failed to process {src_path}: {str(e)}\") \n",
    "        else:\n",
    "            failed_count += 1\n",
    "            pbar.set_postfix({\"Processed\": processed_count, \"Failed\": failed_count})\n",
    "        \n",
    "        pbar.update(1)  \n",
    "\n",
    "print(f\"\\nDone! Resized images saved in '{NEW_OUTPUT_DIR}/'\")\n",
    "print(f\"Total images: {total_images}\")\n",
    "print(f\"Successfully processed: {processed_count}\")\n",
    "print(f\"Failed to process: {failed_count}\")"
   ]
  },
  {
   "cell_type": "code",
   "execution_count": null,
   "id": "3002b002",
   "metadata": {},
   "outputs": [],
   "source": []
  }
 ],
 "metadata": {
  "kernelspec": {
   "display_name": "Python 3 (ipykernel)",
   "language": "python",
   "name": "python3"
  },
  "language_info": {
   "codemirror_mode": {
    "name": "ipython",
    "version": 3
   },
   "file_extension": ".py",
   "mimetype": "text/x-python",
   "name": "python",
   "nbconvert_exporter": "python",
   "pygments_lexer": "ipython3",
   "version": "3.11.5"
  }
 },
 "nbformat": 4,
 "nbformat_minor": 5
}
